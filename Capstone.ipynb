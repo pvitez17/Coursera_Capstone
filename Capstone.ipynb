{
 "cells": [
  {
   "cell_type": "markdown",
   "id": "168ff16c",
   "metadata": {},
   "source": [
    "# Applied Data Science Capstone"
   ]
  },
  {
   "cell_type": "markdown",
   "id": "e47dfb7d",
   "metadata": {},
   "source": [
    "## Introduction\n",
    "\n",
    "The problem that is going to be presented are the perks and benefits of living in two Croatian cities: Zagreb and Varaždin. We are going to look for answers to some of the following questions: which city is better for a young person in their 20's regarding the numbers of interesting venues in the city, like coffee shops, restaurants, movie theaters etc. and which town is better suited for a family regarding the crime rate, monthly costs etc."
   ]
  },
  {
   "cell_type": "markdown",
   "id": "d93945c6",
   "metadata": {},
   "source": [
    "## Data\n",
    "\n",
    "We are going to collect the data for the nearby venues from Foursquare to get the list of:\n",
    "* coffee shops \n",
    "* restaurants \n",
    "* movie theaters\n",
    "* shopping malls\n",
    "\n",
    "We are also going to collect some numerical data from www.numbeo.com about\n",
    "* crime rate\n",
    "* quality of life index\n",
    "* average salary \n",
    "* cost of living \n",
    "* apartment price\n",
    "* rent\n",
    "\n",
    "in these two cities. We are going to examine which of the two cities has more interesting venues, and after that we are going to compare which of the two cities has the smaller crime rate, living costs, rent/apartment cost, but a higher salary and quality of life index."
   ]
  },
  {
   "cell_type": "code",
   "execution_count": null,
   "id": "4429c9cc",
   "metadata": {},
   "outputs": [],
   "source": []
  }
 ],
 "metadata": {
  "kernelspec": {
   "display_name": "Python 3",
   "language": "python",
   "name": "python3"
  },
  "language_info": {
   "codemirror_mode": {
    "name": "ipython",
    "version": 3
   },
   "file_extension": ".py",
   "mimetype": "text/x-python",
   "name": "python",
   "nbconvert_exporter": "python",
   "pygments_lexer": "ipython3",
   "version": "3.8.5"
  }
 },
 "nbformat": 4,
 "nbformat_minor": 5
}
