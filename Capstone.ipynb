{
 "cells": [
  {
   "cell_type": "markdown",
   "id": "168ff16c",
   "metadata": {},
   "source": [
    "# Applied Data Science Capstone"
   ]
  },
  {
   "cell_type": "markdown",
   "id": "e47dfb7d",
   "metadata": {},
   "source": [
    "## Introduction\n",
    "\n",
    "The problem that is going to be presented are the perks and benefits of living in two Croatian cities: Zagreb and Varaždin. We are going to look for answers to some of the following questions: which city is better suited for a young person in their 20's regarding the numbers of interesting venues in the city, like coffee shops, restaurants, movie theaters etc in the radius of 10 kilometers from the town, and which town is better suited for a family regarding the crime rate, monthly costs etc."
   ]
  },
  {
   "cell_type": "markdown",
   "id": "d93945c6",
   "metadata": {},
   "source": [
    "## Data\n",
    "\n",
    "We are going to collect the data for the nearby venues from Foursquare to get the list of:\n",
    "* coffee shops \n",
    "* bars\n",
    "* pubs\n",
    "* clubs\n",
    "* restaurants\n",
    "* theaters\n",
    "* shopping centers\n",
    "\n",
    "We are also going to collect some numerical data from www.numbeo.com about\n",
    "* crime rate\n",
    "* quality of life index\n",
    "* average salary \n",
    "* cost of living \n",
    "* apartment price\n",
    "* rent\n",
    "* preschool price\n",
    "\n",
    "in these two cities. \n",
    "We are going to examine which of the two cities has more interesting venues, and after that we are going to compare which of the two cities has the smaller crime rate, living costs, rent/apartment cost, but a higher salary and quality of life index."
   ]
  },
  {
   "cell_type": "markdown",
   "id": "8421989c",
   "metadata": {},
   "source": [
    "## Methodology section"
   ]
  },
  {
   "cell_type": "markdown",
   "id": "9e484dac",
   "metadata": {},
   "source": [
    "#### Import libraries"
   ]
  },
  {
   "cell_type": "code",
   "execution_count": 1,
   "id": "519f455e",
   "metadata": {},
   "outputs": [],
   "source": [
    "import requests \n",
    "import pandas as pd \n",
    "import numpy as np \n",
    "\n",
    "from geopy.geocoders import Nominatim\n",
    "from bs4 import BeautifulSoup\n",
    "import bs4, re\n",
    "from pandas.io.json import json_normalize"
   ]
  },
  {
   "cell_type": "markdown",
   "id": "cae94883",
   "metadata": {},
   "source": [
    "#### Foursquare credentials"
   ]
  },
  {
   "cell_type": "code",
   "execution_count": 2,
   "id": "8d638c92",
   "metadata": {},
   "outputs": [],
   "source": [
    "CLIENT_ID = 'H1YI1IFUJP2TVASK1Q4DAIE5MJKQJOPK4HBYKQADZ0Y4WD5E' # your Foursquare ID\n",
    "CLIENT_SECRET = 'Y0AZ1HS3USW5FHSB2T1SAYF2HGRWYQBWILOJA3YAM353LXIX' # your Foursquare Secret\n",
    "ACCESS_TOKEN = '10PPE2HKPYK3USQHV2I14Q05S0ADKFY5JHTMTRH3JW24FI2F' # your FourSquare Access Token\n",
    "VERSION = '20180604'\n",
    "LIMIT = 1000"
   ]
  },
  {
   "cell_type": "markdown",
   "id": "bda57975",
   "metadata": {},
   "source": [
    "#### Instance geocoder for Varaždin"
   ]
  },
  {
   "cell_type": "code",
   "execution_count": 3,
   "id": "d8dd7390",
   "metadata": {},
   "outputs": [
    {
     "name": "stdout",
     "output_type": "stream",
     "text": [
      "46.3079645 16.3378198\n"
     ]
    }
   ],
   "source": [
    "address = 'Varaždin'\n",
    "\n",
    "geolocator = Nominatim(user_agent=\"vz_foursquare_agent\")\n",
    "location = geolocator.geocode(address)\n",
    "latitude = location.latitude\n",
    "longitude = location.longitude\n",
    "radius = 10000\n",
    "print(latitude, longitude)"
   ]
  },
  {
   "cell_type": "code",
   "execution_count": 4,
   "id": "23318fcf",
   "metadata": {},
   "outputs": [],
   "source": [
    "url = 'https://api.foursquare.com/v2/venues/explore?client_id={}&client_secret={}&ll={},{}&oauth_token={}&v={}&radius={}&limit={}'.format(CLIENT_ID, CLIENT_SECRET, latitude, longitude,ACCESS_TOKEN, VERSION, radius, LIMIT)"
   ]
  },
  {
   "cell_type": "markdown",
   "id": "94a2f64e",
   "metadata": {},
   "source": [
    "#### Get results"
   ]
  },
  {
   "cell_type": "code",
   "execution_count": 5,
   "id": "9e405b64",
   "metadata": {},
   "outputs": [],
   "source": [
    "results = requests.get(url).json()"
   ]
  },
  {
   "cell_type": "markdown",
   "id": "08632c70",
   "metadata": {},
   "source": [
    "#### Transform response into a pandas dataframe"
   ]
  },
  {
   "cell_type": "code",
   "execution_count": 6,
   "id": "6a52849d",
   "metadata": {},
   "outputs": [
    {
     "name": "stderr",
     "output_type": "stream",
     "text": [
      "<ipython-input-6-79fbf087b779>:2: FutureWarning: pandas.io.json.json_normalize is deprecated, use pandas.json_normalize instead\n",
      "  vz_dataframe = json_normalize(venues)\n"
     ]
    },
    {
     "data": {
      "text/html": [
       "<div>\n",
       "<style scoped>\n",
       "    .dataframe tbody tr th:only-of-type {\n",
       "        vertical-align: middle;\n",
       "    }\n",
       "\n",
       "    .dataframe tbody tr th {\n",
       "        vertical-align: top;\n",
       "    }\n",
       "\n",
       "    .dataframe thead th {\n",
       "        text-align: right;\n",
       "    }\n",
       "</style>\n",
       "<table border=\"1\" class=\"dataframe\">\n",
       "  <thead>\n",
       "    <tr style=\"text-align: right;\">\n",
       "      <th></th>\n",
       "      <th>referralId</th>\n",
       "      <th>reasons.count</th>\n",
       "      <th>reasons.items</th>\n",
       "      <th>venue.id</th>\n",
       "      <th>venue.name</th>\n",
       "      <th>venue.location.address</th>\n",
       "      <th>venue.location.lat</th>\n",
       "      <th>venue.location.lng</th>\n",
       "      <th>venue.location.labeledLatLngs</th>\n",
       "      <th>venue.location.distance</th>\n",
       "      <th>...</th>\n",
       "      <th>venue.location.cc</th>\n",
       "      <th>venue.location.city</th>\n",
       "      <th>venue.location.state</th>\n",
       "      <th>venue.location.country</th>\n",
       "      <th>venue.location.formattedAddress</th>\n",
       "      <th>venue.categories</th>\n",
       "      <th>venue.photos.count</th>\n",
       "      <th>venue.photos.groups</th>\n",
       "      <th>venue.location.crossStreet</th>\n",
       "      <th>venue.venuePage.id</th>\n",
       "    </tr>\n",
       "  </thead>\n",
       "  <tbody>\n",
       "    <tr>\n",
       "      <th>0</th>\n",
       "      <td>e-0-4bcc4fcc937ca59317d5aa92-0</td>\n",
       "      <td>0</td>\n",
       "      <td>[{'summary': 'This spot is popular', 'type': '...</td>\n",
       "      <td>4bcc4fcc937ca59317d5aa92</td>\n",
       "      <td>Stari grad Varaždin</td>\n",
       "      <td>Ivana Kukuljevića</td>\n",
       "      <td>46.309535</td>\n",
       "      <td>16.333919</td>\n",
       "      <td>[{'label': 'display', 'lat': 46.30953471054936...</td>\n",
       "      <td>347</td>\n",
       "      <td>...</td>\n",
       "      <td>HR</td>\n",
       "      <td>Varaždin</td>\n",
       "      <td>Varaždinska Županija</td>\n",
       "      <td>Hrvatska</td>\n",
       "      <td>[Ivana Kukuljevića, 42000 Varaždin]</td>\n",
       "      <td>[{'id': '4deefb944765f83613cdba6e', 'name': 'H...</td>\n",
       "      <td>0</td>\n",
       "      <td>[]</td>\n",
       "      <td>NaN</td>\n",
       "      <td>NaN</td>\n",
       "    </tr>\n",
       "    <tr>\n",
       "      <th>1</th>\n",
       "      <td>e-0-5543b1f1498e1ce42c13dbf3-1</td>\n",
       "      <td>0</td>\n",
       "      <td>[{'summary': 'This spot is popular', 'type': '...</td>\n",
       "      <td>5543b1f1498e1ce42c13dbf3</td>\n",
       "      <td>Medina škrinja</td>\n",
       "      <td>NaN</td>\n",
       "      <td>46.306738</td>\n",
       "      <td>16.338372</td>\n",
       "      <td>[{'label': 'display', 'lat': 46.3067382516887,...</td>\n",
       "      <td>142</td>\n",
       "      <td>...</td>\n",
       "      <td>HR</td>\n",
       "      <td>NaN</td>\n",
       "      <td>NaN</td>\n",
       "      <td>Hrvatska</td>\n",
       "      <td>NaN</td>\n",
       "      <td>[{'id': '4bf58dd8d48988d11b941735', 'name': 'P...</td>\n",
       "      <td>0</td>\n",
       "      <td>[]</td>\n",
       "      <td>NaN</td>\n",
       "      <td>NaN</td>\n",
       "    </tr>\n",
       "    <tr>\n",
       "      <th>2</th>\n",
       "      <td>e-0-4c3d7ba4b169c9b6d9184768-2</td>\n",
       "      <td>0</td>\n",
       "      <td>[{'summary': 'This spot is popular', 'type': '...</td>\n",
       "      <td>4c3d7ba4b169c9b6d9184768</td>\n",
       "      <td>Caffe Bar Lavra</td>\n",
       "      <td>Gajeva 17</td>\n",
       "      <td>46.309645</td>\n",
       "      <td>16.337262</td>\n",
       "      <td>[{'label': 'display', 'lat': 46.30964508206210...</td>\n",
       "      <td>191</td>\n",
       "      <td>...</td>\n",
       "      <td>HR</td>\n",
       "      <td>Varaždin</td>\n",
       "      <td>Varaždinska Županija</td>\n",
       "      <td>Hrvatska</td>\n",
       "      <td>[Gajeva 17, 42000 Varaždin]</td>\n",
       "      <td>[{'id': '4bf58dd8d48988d116941735', 'name': 'B...</td>\n",
       "      <td>0</td>\n",
       "      <td>[]</td>\n",
       "      <td>NaN</td>\n",
       "      <td>NaN</td>\n",
       "    </tr>\n",
       "    <tr>\n",
       "      <th>3</th>\n",
       "      <td>e-0-4c99d7b1553cef3bd8e9cf77-3</td>\n",
       "      <td>0</td>\n",
       "      <td>[{'summary': 'This spot is popular', 'type': '...</td>\n",
       "      <td>4c99d7b1553cef3bd8e9cf77</td>\n",
       "      <td>Caffe Perla</td>\n",
       "      <td>Supilova 50b</td>\n",
       "      <td>46.299115</td>\n",
       "      <td>16.340701</td>\n",
       "      <td>[{'label': 'display', 'lat': 46.2991154901024,...</td>\n",
       "      <td>1009</td>\n",
       "      <td>...</td>\n",
       "      <td>HR</td>\n",
       "      <td>Varaždin</td>\n",
       "      <td>Varaždinska Županija</td>\n",
       "      <td>Hrvatska</td>\n",
       "      <td>[Supilova 50b (Zagrebačka), 42000 Varaždin]</td>\n",
       "      <td>[{'id': '4bf58dd8d48988d116941735', 'name': 'B...</td>\n",
       "      <td>0</td>\n",
       "      <td>[]</td>\n",
       "      <td>Zagrebačka</td>\n",
       "      <td>NaN</td>\n",
       "    </tr>\n",
       "    <tr>\n",
       "      <th>4</th>\n",
       "      <td>e-0-51b8b466498e17f5411e14df-4</td>\n",
       "      <td>0</td>\n",
       "      <td>[{'summary': 'This spot is popular', 'type': '...</td>\n",
       "      <td>51b8b466498e17f5411e14df</td>\n",
       "      <td>Pivnica Medonja</td>\n",
       "      <td>Kapucinski trg 2</td>\n",
       "      <td>46.305290</td>\n",
       "      <td>16.336351</td>\n",
       "      <td>[{'label': 'display', 'lat': 46.3052900375204,...</td>\n",
       "      <td>318</td>\n",
       "      <td>...</td>\n",
       "      <td>HR</td>\n",
       "      <td>Varaždin</td>\n",
       "      <td>Varaždinska Županija</td>\n",
       "      <td>Hrvatska</td>\n",
       "      <td>[Kapucinski trg 2, 42000 Varaždin]</td>\n",
       "      <td>[{'id': '4bf58dd8d48988d11b941735', 'name': 'P...</td>\n",
       "      <td>0</td>\n",
       "      <td>[]</td>\n",
       "      <td>NaN</td>\n",
       "      <td>NaN</td>\n",
       "    </tr>\n",
       "  </tbody>\n",
       "</table>\n",
       "<p>5 rows × 21 columns</p>\n",
       "</div>"
      ],
      "text/plain": [
       "                       referralId  reasons.count  \\\n",
       "0  e-0-4bcc4fcc937ca59317d5aa92-0              0   \n",
       "1  e-0-5543b1f1498e1ce42c13dbf3-1              0   \n",
       "2  e-0-4c3d7ba4b169c9b6d9184768-2              0   \n",
       "3  e-0-4c99d7b1553cef3bd8e9cf77-3              0   \n",
       "4  e-0-51b8b466498e17f5411e14df-4              0   \n",
       "\n",
       "                                       reasons.items  \\\n",
       "0  [{'summary': 'This spot is popular', 'type': '...   \n",
       "1  [{'summary': 'This spot is popular', 'type': '...   \n",
       "2  [{'summary': 'This spot is popular', 'type': '...   \n",
       "3  [{'summary': 'This spot is popular', 'type': '...   \n",
       "4  [{'summary': 'This spot is popular', 'type': '...   \n",
       "\n",
       "                   venue.id           venue.name venue.location.address  \\\n",
       "0  4bcc4fcc937ca59317d5aa92  Stari grad Varaždin      Ivana Kukuljevića   \n",
       "1  5543b1f1498e1ce42c13dbf3       Medina škrinja                    NaN   \n",
       "2  4c3d7ba4b169c9b6d9184768      Caffe Bar Lavra              Gajeva 17   \n",
       "3  4c99d7b1553cef3bd8e9cf77          Caffe Perla           Supilova 50b   \n",
       "4  51b8b466498e17f5411e14df      Pivnica Medonja       Kapucinski trg 2   \n",
       "\n",
       "   venue.location.lat  venue.location.lng  \\\n",
       "0           46.309535           16.333919   \n",
       "1           46.306738           16.338372   \n",
       "2           46.309645           16.337262   \n",
       "3           46.299115           16.340701   \n",
       "4           46.305290           16.336351   \n",
       "\n",
       "                       venue.location.labeledLatLngs  venue.location.distance  \\\n",
       "0  [{'label': 'display', 'lat': 46.30953471054936...                      347   \n",
       "1  [{'label': 'display', 'lat': 46.3067382516887,...                      142   \n",
       "2  [{'label': 'display', 'lat': 46.30964508206210...                      191   \n",
       "3  [{'label': 'display', 'lat': 46.2991154901024,...                     1009   \n",
       "4  [{'label': 'display', 'lat': 46.3052900375204,...                      318   \n",
       "\n",
       "   ... venue.location.cc venue.location.city  venue.location.state  \\\n",
       "0  ...                HR            Varaždin  Varaždinska Županija   \n",
       "1  ...                HR                 NaN                   NaN   \n",
       "2  ...                HR            Varaždin  Varaždinska Županija   \n",
       "3  ...                HR            Varaždin  Varaždinska Županija   \n",
       "4  ...                HR            Varaždin  Varaždinska Županija   \n",
       "\n",
       "  venue.location.country              venue.location.formattedAddress  \\\n",
       "0               Hrvatska          [Ivana Kukuljevića, 42000 Varaždin]   \n",
       "1               Hrvatska                                          NaN   \n",
       "2               Hrvatska                  [Gajeva 17, 42000 Varaždin]   \n",
       "3               Hrvatska  [Supilova 50b (Zagrebačka), 42000 Varaždin]   \n",
       "4               Hrvatska           [Kapucinski trg 2, 42000 Varaždin]   \n",
       "\n",
       "                                    venue.categories venue.photos.count  \\\n",
       "0  [{'id': '4deefb944765f83613cdba6e', 'name': 'H...                  0   \n",
       "1  [{'id': '4bf58dd8d48988d11b941735', 'name': 'P...                  0   \n",
       "2  [{'id': '4bf58dd8d48988d116941735', 'name': 'B...                  0   \n",
       "3  [{'id': '4bf58dd8d48988d116941735', 'name': 'B...                  0   \n",
       "4  [{'id': '4bf58dd8d48988d11b941735', 'name': 'P...                  0   \n",
       "\n",
       "   venue.photos.groups venue.location.crossStreet venue.venuePage.id  \n",
       "0                   []                        NaN                NaN  \n",
       "1                   []                        NaN                NaN  \n",
       "2                   []                        NaN                NaN  \n",
       "3                   []                 Zagrebačka                NaN  \n",
       "4                   []                        NaN                NaN  \n",
       "\n",
       "[5 rows x 21 columns]"
      ]
     },
     "execution_count": 6,
     "metadata": {},
     "output_type": "execute_result"
    }
   ],
   "source": [
    "venues = results['response']['groups'][0]['items']\n",
    "vz_dataframe = json_normalize(venues)\n",
    "vz_dataframe.head()"
   ]
  },
  {
   "cell_type": "markdown",
   "id": "6c5f7a87",
   "metadata": {},
   "source": [
    "#### Filter dataframe"
   ]
  },
  {
   "cell_type": "code",
   "execution_count": 7,
   "id": "29b9bbb5",
   "metadata": {},
   "outputs": [
    {
     "data": {
      "text/html": [
       "<div>\n",
       "<style scoped>\n",
       "    .dataframe tbody tr th:only-of-type {\n",
       "        vertical-align: middle;\n",
       "    }\n",
       "\n",
       "    .dataframe tbody tr th {\n",
       "        vertical-align: top;\n",
       "    }\n",
       "\n",
       "    .dataframe thead th {\n",
       "        text-align: right;\n",
       "    }\n",
       "</style>\n",
       "<table border=\"1\" class=\"dataframe\">\n",
       "  <thead>\n",
       "    <tr style=\"text-align: right;\">\n",
       "      <th></th>\n",
       "      <th>name</th>\n",
       "      <th>categories</th>\n",
       "      <th>state</th>\n",
       "    </tr>\n",
       "  </thead>\n",
       "  <tbody>\n",
       "    <tr>\n",
       "      <th>0</th>\n",
       "      <td>Stari grad Varaždin</td>\n",
       "      <td>Historic Site</td>\n",
       "      <td>Varaždinska Županija</td>\n",
       "    </tr>\n",
       "    <tr>\n",
       "      <th>1</th>\n",
       "      <td>Medina škrinja</td>\n",
       "      <td>Pub</td>\n",
       "      <td>NaN</td>\n",
       "    </tr>\n",
       "    <tr>\n",
       "      <th>2</th>\n",
       "      <td>Caffe Bar Lavra</td>\n",
       "      <td>Bar</td>\n",
       "      <td>Varaždinska Županija</td>\n",
       "    </tr>\n",
       "    <tr>\n",
       "      <th>3</th>\n",
       "      <td>Caffe Perla</td>\n",
       "      <td>Bar</td>\n",
       "      <td>Varaždinska Županija</td>\n",
       "    </tr>\n",
       "    <tr>\n",
       "      <th>4</th>\n",
       "      <td>Pivnica Medonja</td>\n",
       "      <td>Pub</td>\n",
       "      <td>Varaždinska Županija</td>\n",
       "    </tr>\n",
       "    <tr>\n",
       "      <th>...</th>\n",
       "      <td>...</td>\n",
       "      <td>...</td>\n",
       "      <td>...</td>\n",
       "    </tr>\n",
       "    <tr>\n",
       "      <th>89</th>\n",
       "      <td>Drava</td>\n",
       "      <td>River</td>\n",
       "      <td>Međimurska Županija</td>\n",
       "    </tr>\n",
       "    <tr>\n",
       "      <th>90</th>\n",
       "      <td>Restoran Fontana</td>\n",
       "      <td>Restaurant</td>\n",
       "      <td>Varaždinska Županija</td>\n",
       "    </tr>\n",
       "    <tr>\n",
       "      <th>91</th>\n",
       "      <td>Müller</td>\n",
       "      <td>Pharmacy</td>\n",
       "      <td>Varaždinska Županija</td>\n",
       "    </tr>\n",
       "    <tr>\n",
       "      <th>92</th>\n",
       "      <td>Mercator</td>\n",
       "      <td>Grocery Store</td>\n",
       "      <td>Varaždinska Županija</td>\n",
       "    </tr>\n",
       "    <tr>\n",
       "      <th>93</th>\n",
       "      <td>Konzum</td>\n",
       "      <td>Grocery Store</td>\n",
       "      <td>Varaždinska Županija</td>\n",
       "    </tr>\n",
       "  </tbody>\n",
       "</table>\n",
       "<p>94 rows × 3 columns</p>\n",
       "</div>"
      ],
      "text/plain": [
       "                   name     categories                 state\n",
       "0   Stari grad Varaždin  Historic Site  Varaždinska Županija\n",
       "1        Medina škrinja            Pub                   NaN\n",
       "2       Caffe Bar Lavra            Bar  Varaždinska Županija\n",
       "3           Caffe Perla            Bar  Varaždinska Županija\n",
       "4       Pivnica Medonja            Pub  Varaždinska Županija\n",
       "..                  ...            ...                   ...\n",
       "89                Drava          River   Međimurska Županija\n",
       "90     Restoran Fontana     Restaurant  Varaždinska Županija\n",
       "91               Müller       Pharmacy  Varaždinska Županija\n",
       "92             Mercator  Grocery Store  Varaždinska Županija\n",
       "93               Konzum  Grocery Store  Varaždinska Županija\n",
       "\n",
       "[94 rows x 3 columns]"
      ]
     },
     "execution_count": 7,
     "metadata": {},
     "output_type": "execute_result"
    }
   ],
   "source": [
    "# keep only columns that include venue name, and anything that is associated with location\n",
    "filtered_columns = ['venue.name', 'venue.categories', 'venue.location.state']\n",
    "dataframe_filtered = vz_dataframe.reindex(columns = filtered_columns)\n",
    "\n",
    "\n",
    "\n",
    "# function that extracts the category of the venue\n",
    "def get_category_type(row):\n",
    "    try:\n",
    "        categories_list = row['categories']\n",
    "    except:\n",
    "        categories_list = row['venue.categories']\n",
    "        \n",
    "    if len(categories_list) == 0:\n",
    "        return None\n",
    "    else:\n",
    "        return categories_list[0]['name']\n",
    "\n",
    "# filter the category for each row\n",
    "dataframe_filtered['venue.categories'] = dataframe_filtered.apply(get_category_type, axis=1)\n",
    "\n",
    "# clean column names by keeping only last term\n",
    "dataframe_filtered.columns = [column.split('.')[-1] for column in dataframe_filtered.columns]\n",
    "\n",
    "vz_dataframe=dataframe_filtered\n",
    "vz_dataframe"
   ]
  },
  {
   "cell_type": "markdown",
   "id": "04b1b246",
   "metadata": {},
   "source": [
    "#### Categories"
   ]
  },
  {
   "cell_type": "code",
   "execution_count": 8,
   "id": "ca77677b",
   "metadata": {},
   "outputs": [
    {
     "data": {
      "text/plain": [
       "array(['Historic Site', 'Pub', 'Bar', 'Farmers Market',\n",
       "       'Modern European Restaurant', 'Pizza Place', 'Plaza', 'BBQ Joint',\n",
       "       'Snack Place', 'Restaurant', 'Beer Bar', 'Hotel',\n",
       "       'Fast Food Restaurant', 'Theater', 'Multiplex',\n",
       "       'Eastern European Restaurant', 'Ice Cream Shop',\n",
       "       'Italian Restaurant', 'Café', 'Gym / Fitness Center',\n",
       "       'Comfort Food Restaurant', 'Bowling Alley', 'Grocery Store',\n",
       "       'Dessert Shop', 'Lounge', 'Hotel Bar', 'Cocktail Bar',\n",
       "       'Food & Drink Shop', 'Department Store', 'Supermarket',\n",
       "       'Shopping Mall', 'Big Box Store', 'Stadium', 'Gym',\n",
       "       'Performing Arts Venue', 'Bookstore', 'Bakery', 'River',\n",
       "       'Pharmacy'], dtype=object)"
      ]
     },
     "execution_count": 8,
     "metadata": {},
     "output_type": "execute_result"
    }
   ],
   "source": [
    "vz_dataframe.categories.unique()"
   ]
  },
  {
   "cell_type": "markdown",
   "id": "5cb16d2c",
   "metadata": {},
   "source": [
    "#### Instance geocoder for Zagreb"
   ]
  },
  {
   "cell_type": "code",
   "execution_count": 9,
   "id": "1f27c92e",
   "metadata": {},
   "outputs": [
    {
     "name": "stdout",
     "output_type": "stream",
     "text": [
      "45.8131847 15.9771774\n"
     ]
    }
   ],
   "source": [
    "address = 'Zagreb'\n",
    "\n",
    "geolocator = Nominatim(user_agent=\"vz_foursquare_agent\")\n",
    "location = geolocator.geocode(address)\n",
    "latitude = location.latitude\n",
    "longitude = location.longitude\n",
    "radius = 10000\n",
    "print(latitude, longitude)"
   ]
  },
  {
   "cell_type": "code",
   "execution_count": 10,
   "id": "1838412f",
   "metadata": {},
   "outputs": [],
   "source": [
    "url = 'https://api.foursquare.com/v2/venues/explore?client_id={}&client_secret={}&ll={},{}&oauth_token={}&v={}&radius={}&limit={}'.format(CLIENT_ID, CLIENT_SECRET, latitude, longitude,ACCESS_TOKEN, VERSION, radius, LIMIT)"
   ]
  },
  {
   "cell_type": "markdown",
   "id": "9662d982",
   "metadata": {},
   "source": [
    "#### Get results"
   ]
  },
  {
   "cell_type": "code",
   "execution_count": 11,
   "id": "8fc52af3",
   "metadata": {},
   "outputs": [],
   "source": [
    "results = requests.get(url).json()"
   ]
  },
  {
   "cell_type": "markdown",
   "id": "3c809a45",
   "metadata": {},
   "source": [
    "#### Transform response to a dataframe"
   ]
  },
  {
   "cell_type": "code",
   "execution_count": 12,
   "id": "25363a2f",
   "metadata": {},
   "outputs": [
    {
     "name": "stderr",
     "output_type": "stream",
     "text": [
      "<ipython-input-12-818aa32a682e>:2: FutureWarning: pandas.io.json.json_normalize is deprecated, use pandas.json_normalize instead\n",
      "  zg_dataframe = json_normalize(venues)\n"
     ]
    },
    {
     "data": {
      "text/html": [
       "<div>\n",
       "<style scoped>\n",
       "    .dataframe tbody tr th:only-of-type {\n",
       "        vertical-align: middle;\n",
       "    }\n",
       "\n",
       "    .dataframe tbody tr th {\n",
       "        vertical-align: top;\n",
       "    }\n",
       "\n",
       "    .dataframe thead th {\n",
       "        text-align: right;\n",
       "    }\n",
       "</style>\n",
       "<table border=\"1\" class=\"dataframe\">\n",
       "  <thead>\n",
       "    <tr style=\"text-align: right;\">\n",
       "      <th></th>\n",
       "      <th>referralId</th>\n",
       "      <th>reasons.count</th>\n",
       "      <th>reasons.items</th>\n",
       "      <th>venue.id</th>\n",
       "      <th>venue.name</th>\n",
       "      <th>venue.location.address</th>\n",
       "      <th>venue.location.lat</th>\n",
       "      <th>venue.location.lng</th>\n",
       "      <th>venue.location.labeledLatLngs</th>\n",
       "      <th>venue.location.distance</th>\n",
       "      <th>...</th>\n",
       "      <th>venue.location.city</th>\n",
       "      <th>venue.location.state</th>\n",
       "      <th>venue.location.country</th>\n",
       "      <th>venue.location.formattedAddress</th>\n",
       "      <th>venue.categories</th>\n",
       "      <th>venue.photos.count</th>\n",
       "      <th>venue.photos.groups</th>\n",
       "      <th>venue.location.neighborhood</th>\n",
       "      <th>venue.location.crossStreet</th>\n",
       "      <th>venue.venuePage.id</th>\n",
       "    </tr>\n",
       "  </thead>\n",
       "  <tbody>\n",
       "    <tr>\n",
       "      <th>0</th>\n",
       "      <td>e-0-4c6652d48e9120a141bad764-0</td>\n",
       "      <td>0</td>\n",
       "      <td>[{'summary': 'This spot is popular', 'type': '...</td>\n",
       "      <td>4c6652d48e9120a141bad764</td>\n",
       "      <td>Amélie</td>\n",
       "      <td>Vlaška 6</td>\n",
       "      <td>45.813842</td>\n",
       "      <td>15.979011</td>\n",
       "      <td>[{'label': 'display', 'lat': 45.81384181080654...</td>\n",
       "      <td>159</td>\n",
       "      <td>...</td>\n",
       "      <td>Zagreb</td>\n",
       "      <td>Grad Zagreb</td>\n",
       "      <td>Hrvatska</td>\n",
       "      <td>[Vlaška 6, 10000 Zagreb]</td>\n",
       "      <td>[{'id': '4bf58dd8d48988d1d0941735', 'name': 'D...</td>\n",
       "      <td>0</td>\n",
       "      <td>[]</td>\n",
       "      <td>NaN</td>\n",
       "      <td>NaN</td>\n",
       "      <td>NaN</td>\n",
       "    </tr>\n",
       "    <tr>\n",
       "      <th>1</th>\n",
       "      <td>e-0-58ee741504aa4f606bdd3895-1</td>\n",
       "      <td>0</td>\n",
       "      <td>[{'summary': 'This spot is popular', 'type': '...</td>\n",
       "      <td>58ee741504aa4f606bdd3895</td>\n",
       "      <td>A Burger &amp; Champagne Bar</td>\n",
       "      <td>Vlaška ulica 17</td>\n",
       "      <td>45.813387</td>\n",
       "      <td>15.980151</td>\n",
       "      <td>[{'label': 'display', 'lat': 45.813387, 'lng':...</td>\n",
       "      <td>231</td>\n",
       "      <td>...</td>\n",
       "      <td>Zagreb</td>\n",
       "      <td>Grad Zagreb</td>\n",
       "      <td>Hrvatska</td>\n",
       "      <td>[Vlaška ulica 17, 10000 Zagreb]</td>\n",
       "      <td>[{'id': '4bf58dd8d48988d1c4941735', 'name': 'R...</td>\n",
       "      <td>0</td>\n",
       "      <td>[]</td>\n",
       "      <td>Gornji Grad – Medveščak</td>\n",
       "      <td>NaN</td>\n",
       "      <td>NaN</td>\n",
       "    </tr>\n",
       "    <tr>\n",
       "      <th>2</th>\n",
       "      <td>e-0-4bb36f0f35f0c9b69c57bc83-2</td>\n",
       "      <td>0</td>\n",
       "      <td>[{'summary': 'This spot is popular', 'type': '...</td>\n",
       "      <td>4bb36f0f35f0c9b69c57bc83</td>\n",
       "      <td>Trg Nikole Šubića Zrinskog | Zrinjevac</td>\n",
       "      <td>Trg Nikole Šubića Zrinskog</td>\n",
       "      <td>45.810244</td>\n",
       "      <td>15.978109</td>\n",
       "      <td>[{'label': 'display', 'lat': 45.81024364510021...</td>\n",
       "      <td>335</td>\n",
       "      <td>...</td>\n",
       "      <td>Zagreb</td>\n",
       "      <td>Grad Zagreb</td>\n",
       "      <td>Hrvatska</td>\n",
       "      <td>[Trg Nikole Šubića Zrinskog, 10000 Zagreb]</td>\n",
       "      <td>[{'id': '4bf58dd8d48988d164941735', 'name': 'P...</td>\n",
       "      <td>0</td>\n",
       "      <td>[]</td>\n",
       "      <td>NaN</td>\n",
       "      <td>NaN</td>\n",
       "      <td>NaN</td>\n",
       "    </tr>\n",
       "    <tr>\n",
       "      <th>3</th>\n",
       "      <td>e-0-58cea112375c4a6ccf2ded58-3</td>\n",
       "      <td>0</td>\n",
       "      <td>[{'summary': 'This spot is popular', 'type': '...</td>\n",
       "      <td>58cea112375c4a6ccf2ded58</td>\n",
       "      <td>Quahwa</td>\n",
       "      <td>Ulica Nikole Tesle 9/1</td>\n",
       "      <td>45.811030</td>\n",
       "      <td>15.975471</td>\n",
       "      <td>[{'label': 'display', 'lat': 45.81102987693929...</td>\n",
       "      <td>273</td>\n",
       "      <td>...</td>\n",
       "      <td>Zagreb</td>\n",
       "      <td>Grad Zagreb</td>\n",
       "      <td>Hrvatska</td>\n",
       "      <td>[Ulica Nikole Tesle 9/1, 10000 Zagreb]</td>\n",
       "      <td>[{'id': '4bf58dd8d48988d16d941735', 'name': 'C...</td>\n",
       "      <td>0</td>\n",
       "      <td>[]</td>\n",
       "      <td>Donji Grad</td>\n",
       "      <td>NaN</td>\n",
       "      <td>NaN</td>\n",
       "    </tr>\n",
       "    <tr>\n",
       "      <th>4</th>\n",
       "      <td>e-0-4bc983e3b6c49c744f938e91-4</td>\n",
       "      <td>0</td>\n",
       "      <td>[{'summary': 'This spot is popular', 'type': '...</td>\n",
       "      <td>4bc983e3b6c49c744f938e91</td>\n",
       "      <td>Cvjetni trg</td>\n",
       "      <td>Trg Petra Preradovića</td>\n",
       "      <td>45.812251</td>\n",
       "      <td>15.974208</td>\n",
       "      <td>[{'label': 'display', 'lat': 45.81225056014608...</td>\n",
       "      <td>252</td>\n",
       "      <td>...</td>\n",
       "      <td>Zagreb</td>\n",
       "      <td>Grad Zagreb</td>\n",
       "      <td>Hrvatska</td>\n",
       "      <td>[Trg Petra Preradovića, 10000 Zagreb]</td>\n",
       "      <td>[{'id': '4bf58dd8d48988d164941735', 'name': 'P...</td>\n",
       "      <td>0</td>\n",
       "      <td>[]</td>\n",
       "      <td>Donji Grad</td>\n",
       "      <td>NaN</td>\n",
       "      <td>NaN</td>\n",
       "    </tr>\n",
       "  </tbody>\n",
       "</table>\n",
       "<p>5 rows × 22 columns</p>\n",
       "</div>"
      ],
      "text/plain": [
       "                       referralId  reasons.count  \\\n",
       "0  e-0-4c6652d48e9120a141bad764-0              0   \n",
       "1  e-0-58ee741504aa4f606bdd3895-1              0   \n",
       "2  e-0-4bb36f0f35f0c9b69c57bc83-2              0   \n",
       "3  e-0-58cea112375c4a6ccf2ded58-3              0   \n",
       "4  e-0-4bc983e3b6c49c744f938e91-4              0   \n",
       "\n",
       "                                       reasons.items  \\\n",
       "0  [{'summary': 'This spot is popular', 'type': '...   \n",
       "1  [{'summary': 'This spot is popular', 'type': '...   \n",
       "2  [{'summary': 'This spot is popular', 'type': '...   \n",
       "3  [{'summary': 'This spot is popular', 'type': '...   \n",
       "4  [{'summary': 'This spot is popular', 'type': '...   \n",
       "\n",
       "                   venue.id                              venue.name  \\\n",
       "0  4c6652d48e9120a141bad764                                  Amélie   \n",
       "1  58ee741504aa4f606bdd3895                A Burger & Champagne Bar   \n",
       "2  4bb36f0f35f0c9b69c57bc83  Trg Nikole Šubića Zrinskog | Zrinjevac   \n",
       "3  58cea112375c4a6ccf2ded58                                  Quahwa   \n",
       "4  4bc983e3b6c49c744f938e91                             Cvjetni trg   \n",
       "\n",
       "       venue.location.address  venue.location.lat  venue.location.lng  \\\n",
       "0                    Vlaška 6           45.813842           15.979011   \n",
       "1             Vlaška ulica 17           45.813387           15.980151   \n",
       "2  Trg Nikole Šubića Zrinskog           45.810244           15.978109   \n",
       "3      Ulica Nikole Tesle 9/1           45.811030           15.975471   \n",
       "4       Trg Petra Preradovića           45.812251           15.974208   \n",
       "\n",
       "                       venue.location.labeledLatLngs  venue.location.distance  \\\n",
       "0  [{'label': 'display', 'lat': 45.81384181080654...                      159   \n",
       "1  [{'label': 'display', 'lat': 45.813387, 'lng':...                      231   \n",
       "2  [{'label': 'display', 'lat': 45.81024364510021...                      335   \n",
       "3  [{'label': 'display', 'lat': 45.81102987693929...                      273   \n",
       "4  [{'label': 'display', 'lat': 45.81225056014608...                      252   \n",
       "\n",
       "   ... venue.location.city venue.location.state venue.location.country  \\\n",
       "0  ...              Zagreb          Grad Zagreb               Hrvatska   \n",
       "1  ...              Zagreb          Grad Zagreb               Hrvatska   \n",
       "2  ...              Zagreb          Grad Zagreb               Hrvatska   \n",
       "3  ...              Zagreb          Grad Zagreb               Hrvatska   \n",
       "4  ...              Zagreb          Grad Zagreb               Hrvatska   \n",
       "\n",
       "              venue.location.formattedAddress  \\\n",
       "0                    [Vlaška 6, 10000 Zagreb]   \n",
       "1             [Vlaška ulica 17, 10000 Zagreb]   \n",
       "2  [Trg Nikole Šubića Zrinskog, 10000 Zagreb]   \n",
       "3      [Ulica Nikole Tesle 9/1, 10000 Zagreb]   \n",
       "4       [Trg Petra Preradovića, 10000 Zagreb]   \n",
       "\n",
       "                                    venue.categories venue.photos.count  \\\n",
       "0  [{'id': '4bf58dd8d48988d1d0941735', 'name': 'D...                  0   \n",
       "1  [{'id': '4bf58dd8d48988d1c4941735', 'name': 'R...                  0   \n",
       "2  [{'id': '4bf58dd8d48988d164941735', 'name': 'P...                  0   \n",
       "3  [{'id': '4bf58dd8d48988d16d941735', 'name': 'C...                  0   \n",
       "4  [{'id': '4bf58dd8d48988d164941735', 'name': 'P...                  0   \n",
       "\n",
       "  venue.photos.groups  venue.location.neighborhood venue.location.crossStreet  \\\n",
       "0                  []                          NaN                        NaN   \n",
       "1                  []      Gornji Grad – Medveščak                        NaN   \n",
       "2                  []                          NaN                        NaN   \n",
       "3                  []                   Donji Grad                        NaN   \n",
       "4                  []                   Donji Grad                        NaN   \n",
       "\n",
       "  venue.venuePage.id  \n",
       "0                NaN  \n",
       "1                NaN  \n",
       "2                NaN  \n",
       "3                NaN  \n",
       "4                NaN  \n",
       "\n",
       "[5 rows x 22 columns]"
      ]
     },
     "execution_count": 12,
     "metadata": {},
     "output_type": "execute_result"
    }
   ],
   "source": [
    "venues = results['response']['groups'][0]['items']\n",
    "zg_dataframe = json_normalize(venues)\n",
    "zg_dataframe.head()"
   ]
  },
  {
   "cell_type": "markdown",
   "id": "1733c853",
   "metadata": {},
   "source": [
    "#### Filter dataframe"
   ]
  },
  {
   "cell_type": "code",
   "execution_count": 13,
   "id": "c977dde4",
   "metadata": {},
   "outputs": [
    {
     "data": {
      "text/html": [
       "<div>\n",
       "<style scoped>\n",
       "    .dataframe tbody tr th:only-of-type {\n",
       "        vertical-align: middle;\n",
       "    }\n",
       "\n",
       "    .dataframe tbody tr th {\n",
       "        vertical-align: top;\n",
       "    }\n",
       "\n",
       "    .dataframe thead th {\n",
       "        text-align: right;\n",
       "    }\n",
       "</style>\n",
       "<table border=\"1\" class=\"dataframe\">\n",
       "  <thead>\n",
       "    <tr style=\"text-align: right;\">\n",
       "      <th></th>\n",
       "      <th>name</th>\n",
       "      <th>categories</th>\n",
       "      <th>state</th>\n",
       "    </tr>\n",
       "  </thead>\n",
       "  <tbody>\n",
       "    <tr>\n",
       "      <th>0</th>\n",
       "      <td>Amélie</td>\n",
       "      <td>Dessert Shop</td>\n",
       "      <td>Grad Zagreb</td>\n",
       "    </tr>\n",
       "    <tr>\n",
       "      <th>1</th>\n",
       "      <td>A Burger &amp; Champagne Bar</td>\n",
       "      <td>Restaurant</td>\n",
       "      <td>Grad Zagreb</td>\n",
       "    </tr>\n",
       "    <tr>\n",
       "      <th>2</th>\n",
       "      <td>Trg Nikole Šubića Zrinskog | Zrinjevac</td>\n",
       "      <td>Plaza</td>\n",
       "      <td>Grad Zagreb</td>\n",
       "    </tr>\n",
       "    <tr>\n",
       "      <th>3</th>\n",
       "      <td>Quahwa</td>\n",
       "      <td>Café</td>\n",
       "      <td>Grad Zagreb</td>\n",
       "    </tr>\n",
       "    <tr>\n",
       "      <th>4</th>\n",
       "      <td>Cvjetni trg</td>\n",
       "      <td>Plaza</td>\n",
       "      <td>Grad Zagreb</td>\n",
       "    </tr>\n",
       "    <tr>\n",
       "      <th>...</th>\n",
       "      <td>...</td>\n",
       "      <td>...</td>\n",
       "      <td>...</td>\n",
       "    </tr>\n",
       "    <tr>\n",
       "      <th>95</th>\n",
       "      <td>SQUASH Tower &amp; First Fitness</td>\n",
       "      <td>Gym</td>\n",
       "      <td>Grad Zagreb</td>\n",
       "    </tr>\n",
       "    <tr>\n",
       "      <th>96</th>\n",
       "      <td>Le Kolač</td>\n",
       "      <td>Dessert Shop</td>\n",
       "      <td>Grad Zagreb</td>\n",
       "    </tr>\n",
       "    <tr>\n",
       "      <th>97</th>\n",
       "      <td>Kino Tuškanac</td>\n",
       "      <td>Indie Movie Theater</td>\n",
       "      <td>Grad Zagreb</td>\n",
       "    </tr>\n",
       "    <tr>\n",
       "      <th>98</th>\n",
       "      <td>Korkyra</td>\n",
       "      <td>Mediterranean Restaurant</td>\n",
       "      <td>NaN</td>\n",
       "    </tr>\n",
       "    <tr>\n",
       "      <th>99</th>\n",
       "      <td>Basta</td>\n",
       "      <td>Modern European Restaurant</td>\n",
       "      <td>NaN</td>\n",
       "    </tr>\n",
       "  </tbody>\n",
       "</table>\n",
       "<p>100 rows × 3 columns</p>\n",
       "</div>"
      ],
      "text/plain": [
       "                                      name                  categories  \\\n",
       "0                                   Amélie                Dessert Shop   \n",
       "1                 A Burger & Champagne Bar                  Restaurant   \n",
       "2   Trg Nikole Šubića Zrinskog | Zrinjevac                       Plaza   \n",
       "3                                   Quahwa                        Café   \n",
       "4                              Cvjetni trg                       Plaza   \n",
       "..                                     ...                         ...   \n",
       "95            SQUASH Tower & First Fitness                         Gym   \n",
       "96                                Le Kolač                Dessert Shop   \n",
       "97                           Kino Tuškanac         Indie Movie Theater   \n",
       "98                                 Korkyra    Mediterranean Restaurant   \n",
       "99                                   Basta  Modern European Restaurant   \n",
       "\n",
       "          state  \n",
       "0   Grad Zagreb  \n",
       "1   Grad Zagreb  \n",
       "2   Grad Zagreb  \n",
       "3   Grad Zagreb  \n",
       "4   Grad Zagreb  \n",
       "..          ...  \n",
       "95  Grad Zagreb  \n",
       "96  Grad Zagreb  \n",
       "97  Grad Zagreb  \n",
       "98          NaN  \n",
       "99          NaN  \n",
       "\n",
       "[100 rows x 3 columns]"
      ]
     },
     "execution_count": 13,
     "metadata": {},
     "output_type": "execute_result"
    }
   ],
   "source": [
    "# keep only columns that include venue name, and anything that is associated with location\n",
    "filtered_columns = ['venue.name', 'venue.categories', 'venue.location.state']\n",
    "dataframe_filtered = zg_dataframe.reindex(columns = filtered_columns)\n",
    "\n",
    "\n",
    "\n",
    "# function that extracts the category of the venue\n",
    "def get_category_type(row):\n",
    "    try:\n",
    "        categories_list = row['categories']\n",
    "    except:\n",
    "        categories_list = row['venue.categories']\n",
    "        \n",
    "    if len(categories_list) == 0:\n",
    "        return None\n",
    "    else:\n",
    "        return categories_list[0]['name']\n",
    "\n",
    "# filter the category for each row\n",
    "dataframe_filtered['venue.categories'] = dataframe_filtered.apply(get_category_type, axis=1)\n",
    "\n",
    "# clean column names by keeping only last term\n",
    "dataframe_filtered.columns = [column.split('.')[-1] for column in dataframe_filtered.columns]\n",
    "\n",
    "zg_dataframe=dataframe_filtered\n",
    "zg_dataframe"
   ]
  },
  {
   "cell_type": "markdown",
   "id": "74e69502",
   "metadata": {},
   "source": [
    "#### Categories"
   ]
  },
  {
   "cell_type": "code",
   "execution_count": 14,
   "id": "7397439a",
   "metadata": {},
   "outputs": [
    {
     "data": {
      "text/plain": [
       "array(['Dessert Shop', 'Restaurant', 'Plaza', 'Café', 'Coffee Shop',\n",
       "       'Theater', 'Hostel', 'Pedestrian Plaza',\n",
       "       'Mediterranean Restaurant', 'Museum', 'Steakhouse',\n",
       "       'Comfort Food Restaurant', 'Farmers Market', 'Historic Site',\n",
       "       'Hotel', 'Bistro', 'Burger Joint', 'Movie Theater', 'Bakery',\n",
       "       'Pie Shop', 'Bar', 'Eastern European Restaurant', 'Breakfast Spot',\n",
       "       'Gastropub', 'Park', 'Pub', 'Department Store', 'Bookstore',\n",
       "       'Cocktail Bar', 'Concert Hall', 'Wine Bar', 'BBQ Joint', 'Brewery',\n",
       "       'Food & Drink Shop', 'Sculpture Garden', 'Escape Room',\n",
       "       'Fish Market', 'Seafood Restaurant', 'Scenic Lookout', 'Nightclub',\n",
       "       'American Restaurant', 'Tea Room', 'Gym', 'Indie Movie Theater',\n",
       "       'Modern European Restaurant'], dtype=object)"
      ]
     },
     "execution_count": 14,
     "metadata": {},
     "output_type": "execute_result"
    }
   ],
   "source": [
    "zg_dataframe.categories.unique()"
   ]
  },
  {
   "cell_type": "markdown",
   "id": "7324024c",
   "metadata": {},
   "source": [
    "#### Number of occurings of specific categories for each city"
   ]
  },
  {
   "cell_type": "code",
   "execution_count": 15,
   "id": "f9c97527",
   "metadata": {},
   "outputs": [],
   "source": [
    "coffee_shops_vz=np.sum(vz_dataframe['categories'].str.contains(\"coffee\", na=False, case=False))\n",
    "coffee_shops_zg=np.sum(zg_dataframe['categories'].str.contains(\"coffee\", na=False, case=False))\n",
    "\n",
    "cafes_vz=np.sum(vz_dataframe['categories'].str.contains(\"Café\", na=False, case=False))\n",
    "cafes_zg=np.sum(zg_dataframe['categories'].str.contains(\"Café\", na=False, case=False))\n",
    "\n",
    "pubs_vz=np.sum(vz_dataframe['categories'].str.contains(\"pub\", na=False, case=False))\n",
    "pubs_zg=np.sum(zg_dataframe['categories'].str.contains(\"pub\", na=False, case=False))\n",
    "\n",
    "bars_vz=np.sum(vz_dataframe['categories'].str.contains(\"bar\", na=False, case=False))\n",
    "bars_zg=np.sum(zg_dataframe['categories'].str.contains(\"bar\", na=False, case=False))\n",
    "\n",
    "clubs_vz=np.sum(vz_dataframe['categories'].str.contains(\"club\", na=False, case=False))\n",
    "clubs_zg=np.sum(zg_dataframe['categories'].str.contains(\"club\", na=False, case=False))\n",
    "\n",
    "restaurants_vz=np.sum(vz_dataframe['categories'].str.contains(\"restaurant\", na=False, case=False))\n",
    "restaurants_zg=np.sum(zg_dataframe['categories'].str.contains(\"restaurant\", na=False, case=False))\n",
    "\n",
    "movie_vz=np.sum(vz_dataframe['categories'].str.contains(\"theater\", na=False, case=False))\n",
    "movie_zg=np.sum(zg_dataframe['categories'].str.contains(\"theater\", na=False, case=False))\n",
    "\n",
    "malls_vz=np.sum(vz_dataframe['categories'].str.contains(\"shop\", na=False, case=False))\n",
    "malls_zg=np.sum(zg_dataframe['categories'].str.contains(\"shop\", na=False, case=False))"
   ]
  },
  {
   "cell_type": "markdown",
   "id": "8f090747",
   "metadata": {},
   "source": [
    "#### Present the occurings in a dataset"
   ]
  },
  {
   "cell_type": "code",
   "execution_count": 16,
   "id": "8cf49bc1",
   "metadata": {},
   "outputs": [
    {
     "data": {
      "text/html": [
       "<div>\n",
       "<style scoped>\n",
       "    .dataframe tbody tr th:only-of-type {\n",
       "        vertical-align: middle;\n",
       "    }\n",
       "\n",
       "    .dataframe tbody tr th {\n",
       "        vertical-align: top;\n",
       "    }\n",
       "\n",
       "    .dataframe thead th {\n",
       "        text-align: right;\n",
       "    }\n",
       "</style>\n",
       "<table border=\"1\" class=\"dataframe\">\n",
       "  <thead>\n",
       "    <tr style=\"text-align: right;\">\n",
       "      <th></th>\n",
       "      <th>Varaždin</th>\n",
       "      <th>Zagreb</th>\n",
       "    </tr>\n",
       "  </thead>\n",
       "  <tbody>\n",
       "    <tr>\n",
       "      <th>coffee place</th>\n",
       "      <td>8</td>\n",
       "      <td>14</td>\n",
       "    </tr>\n",
       "    <tr>\n",
       "      <th>pub</th>\n",
       "      <td>2</td>\n",
       "      <td>3</td>\n",
       "    </tr>\n",
       "    <tr>\n",
       "      <th>bar</th>\n",
       "      <td>19</td>\n",
       "      <td>10</td>\n",
       "    </tr>\n",
       "    <tr>\n",
       "      <th>club</th>\n",
       "      <td>0</td>\n",
       "      <td>1</td>\n",
       "    </tr>\n",
       "    <tr>\n",
       "      <th>restaurant</th>\n",
       "      <td>16</td>\n",
       "      <td>18</td>\n",
       "    </tr>\n",
       "    <tr>\n",
       "      <th>theaters</th>\n",
       "      <td>2</td>\n",
       "      <td>6</td>\n",
       "    </tr>\n",
       "    <tr>\n",
       "      <th>shopping</th>\n",
       "      <td>5</td>\n",
       "      <td>10</td>\n",
       "    </tr>\n",
       "  </tbody>\n",
       "</table>\n",
       "</div>"
      ],
      "text/plain": [
       "              Varaždin  Zagreb\n",
       "coffee place         8      14\n",
       "pub                  2       3\n",
       "bar                 19      10\n",
       "club                 0       1\n",
       "restaurant          16      18\n",
       "theaters             2       6\n",
       "shopping             5      10"
      ]
     },
     "execution_count": 16,
     "metadata": {},
     "output_type": "execute_result"
    }
   ],
   "source": [
    "data=[[coffee_shops_vz+cafes_vz, coffee_shops_zg+cafes_zg], [pubs_vz, pubs_zg], [bars_vz, bars_zg], [clubs_vz, clubs_zg], [restaurants_vz, restaurants_zg],[movie_vz, movie_zg], [malls_vz, malls_zg]]\n",
    "df = pd.DataFrame(data, index=['coffee place', 'pub', 'bar', 'club', 'restaurant', 'theaters', 'shopping'], columns=['Varaždin', 'Zagreb'])\n",
    "df"
   ]
  },
  {
   "cell_type": "markdown",
   "id": "475e750d",
   "metadata": {},
   "source": [
    "#### Numbeo data"
   ]
  },
  {
   "cell_type": "code",
   "execution_count": 17,
   "id": "094f3a05",
   "metadata": {},
   "outputs": [
    {
     "name": "stdout",
     "output_type": "stream",
     "text": [
      "Family of four estimated monthly costs are 16,072.14kn without rent (using our estimator).\n",
      "A single person estimated monthly costs are 4,690.91kn without rent.\n",
      "Varazdin is 13.85% more expensive than Zagreb (without rent, see our cost of living index).\n",
      "Rent in Varazdin is, on average, 39.24% lower than in Zagreb.\n"
     ]
    }
   ],
   "source": [
    "url = \"https://www.numbeo.com/cost-of-living/in/Varazdin\"\n",
    "req = requests.get(url)\n",
    "soup_vz = BeautifulSoup(req.content, 'html.parser')\n",
    "div=soup_vz.find_all('div', class_='seeding-call table_color summary limit_size_ad_right padding_lower other_highlight_color')\n",
    "for item in div[0].find('p').find('ul').findAll('li'):\n",
    "    print(item.text)"
   ]
  },
  {
   "cell_type": "code",
   "execution_count": 18,
   "id": "f5bfd05a",
   "metadata": {},
   "outputs": [
    {
     "name": "stdout",
     "output_type": "stream",
     "text": [
      "Family of four estimated monthly costs are 15,150.99kn without rent (using our estimator).\n",
      "A single person estimated monthly costs are 4,421.14kn without rent.\n",
      "Zagreb is 48.39% less expensive than New York (without rent, see our cost of living index).\n",
      "Rent in Zagreb is, on average, 81.76% lower than in New York.\n"
     ]
    }
   ],
   "source": [
    "url = \"https://www.numbeo.com/cost-of-living/in/Zagreb\"\n",
    "req = requests.get(url)\n",
    "soup_zg = BeautifulSoup(req.content, 'html.parser')\n",
    "div=soup_zg.find_all('div', class_='seeding-call table_color summary limit_size_ad_right padding_lower other_highlight_color')\n",
    "for item in div[0].find('p').find('ul').findAll('li'):\n",
    "    print(item.text)"
   ]
  },
  {
   "cell_type": "markdown",
   "id": "e445e83b",
   "metadata": {},
   "source": [
    "#### Preschool price"
   ]
  },
  {
   "cell_type": "code",
   "execution_count": 21,
   "id": "5f4c62f2",
   "metadata": {},
   "outputs": [
    {
     "data": {
      "text/html": [
       "<div>\n",
       "<style scoped>\n",
       "    .dataframe tbody tr th:only-of-type {\n",
       "        vertical-align: middle;\n",
       "    }\n",
       "\n",
       "    .dataframe tbody tr th {\n",
       "        vertical-align: top;\n",
       "    }\n",
       "\n",
       "    .dataframe thead th {\n",
       "        text-align: right;\n",
       "    }\n",
       "</style>\n",
       "<table border=\"1\" class=\"dataframe\">\n",
       "  <thead>\n",
       "    <tr style=\"text-align: right;\">\n",
       "      <th></th>\n",
       "      <th>Varaždin</th>\n",
       "      <th>Zagreb</th>\n",
       "    </tr>\n",
       "  </thead>\n",
       "  <tbody>\n",
       "    <tr>\n",
       "      <th>Preschool (or Kindergarten), Full Day, Private, Monthly for 1 Child</th>\n",
       "      <td>800.0</td>\n",
       "      <td>1313.45</td>\n",
       "    </tr>\n",
       "  </tbody>\n",
       "</table>\n",
       "</div>"
      ],
      "text/plain": [
       "                                                    Varaždin   Zagreb\n",
       "Preschool (or Kindergarten), Full Day, Private,...     800.0  1313.45"
      ]
     },
     "execution_count": 21,
     "metadata": {},
     "output_type": "execute_result"
    }
   ],
   "source": [
    "childcare1 = soup_vz.find(text=\"Childcare\").findNext('td').contents[0]\n",
    "price1=childcare1.findNext('td').find('span').text.replace('kn', '').replace(',', '')\n",
    "\n",
    "\n",
    "childcare2 = soup_zg.find(text=\"Childcare\").findNext('td').contents[0]\n",
    "price2=childcare2.findNext('td').find('span').text.replace('kn', '').replace(',', '')\n",
    "\n",
    "df1 = pd.DataFrame({'Varaždin': [float(price1)], 'Zagreb': [float(price2)]}, index=[childcare1])\n",
    "df1"
   ]
  },
  {
   "cell_type": "markdown",
   "id": "857bfc6d",
   "metadata": {},
   "source": [
    "#### Rent per month"
   ]
  },
  {
   "cell_type": "code",
   "execution_count": 22,
   "id": "35a2e4fa",
   "metadata": {},
   "outputs": [
    {
     "data": {
      "text/html": [
       "<div>\n",
       "<style scoped>\n",
       "    .dataframe tbody tr th:only-of-type {\n",
       "        vertical-align: middle;\n",
       "    }\n",
       "\n",
       "    .dataframe tbody tr th {\n",
       "        vertical-align: top;\n",
       "    }\n",
       "\n",
       "    .dataframe thead th {\n",
       "        text-align: right;\n",
       "    }\n",
       "</style>\n",
       "<table border=\"1\" class=\"dataframe\">\n",
       "  <thead>\n",
       "    <tr style=\"text-align: right;\">\n",
       "      <th></th>\n",
       "      <th>Varaždin</th>\n",
       "      <th>Zagreb</th>\n",
       "    </tr>\n",
       "  </thead>\n",
       "  <tbody>\n",
       "    <tr>\n",
       "      <th>Apartment (1 bedroom) in City Centre</th>\n",
       "      <td>1918.00</td>\n",
       "      <td>3595.18</td>\n",
       "    </tr>\n",
       "    <tr>\n",
       "      <th>Apartment (1 bedroom) Outside of Centre</th>\n",
       "      <td>1673.51</td>\n",
       "      <td>2722.55</td>\n",
       "    </tr>\n",
       "    <tr>\n",
       "      <th>Apartment (3 bedrooms) in City Centre</th>\n",
       "      <td>3761.01</td>\n",
       "      <td>6086.62</td>\n",
       "    </tr>\n",
       "    <tr>\n",
       "      <th>Apartment (3 bedrooms) Outside of Centre</th>\n",
       "      <td>3041.34</td>\n",
       "      <td>4639.60</td>\n",
       "    </tr>\n",
       "  </tbody>\n",
       "</table>\n",
       "</div>"
      ],
      "text/plain": [
       "                                           Varaždin   Zagreb\n",
       "Apartment (1 bedroom) in City Centre        1918.00  3595.18\n",
       "Apartment (1 bedroom) Outside of Centre     1673.51  2722.55\n",
       "Apartment (3 bedrooms) in City Centre       3761.01  6086.62\n",
       "Apartment (3 bedrooms) Outside of Centre    3041.34  4639.60"
      ]
     },
     "execution_count": 22,
     "metadata": {},
     "output_type": "execute_result"
    }
   ],
   "source": [
    "rent1 = soup_vz.find(text=\"Rent Per Month\").findNext('td').contents[0]\n",
    "price1=rent1.findNext('td').find('span')\n",
    "rent1_z = soup_zg.find(text=\"Rent Per Month\").findNext('td').contents[0]\n",
    "price1_z=rent1_z.findNext('td').find('span')\n",
    "\n",
    "price_1=[float(price1.text.replace('kn', '').replace(',', ''))]\n",
    "rent_1=[rent1]\n",
    "price_2=[float(price1_z.text.replace('kn', '').replace(',', ''))]\n",
    "rent_2=[rent1_z]\n",
    "\n",
    "i=0\n",
    "p=price1\n",
    "p_z=price1_z\n",
    "while(i<3):\n",
    "    r=p.findNext('td').findNext('td').contents[0]\n",
    "    r_z=p_z.findNext('td').findNext('td').contents[0]\n",
    "    p=r.findNext('td').find('span')\n",
    "    p_z=r_z.findNext('td').find('span')\n",
    "    price_1.append(float(p.text.replace('kn', '').replace(',', '')))\n",
    "    rent_1.append(r)\n",
    "    price_2.append(float(p_z.text.replace('kn', '').replace(',', '')))\n",
    "    rent_2.append(r_z)\n",
    "    i=i+1\n",
    "    \n",
    "\n",
    "\n",
    "df2 = pd.DataFrame({'Varaždin': price_1, 'Zagreb': price_2}, index=rent_1)\n",
    "df2"
   ]
  },
  {
   "cell_type": "markdown",
   "id": "0218de8a",
   "metadata": {},
   "source": [
    "#### Apartment price"
   ]
  },
  {
   "cell_type": "code",
   "execution_count": 23,
   "id": "71765f10",
   "metadata": {},
   "outputs": [
    {
     "data": {
      "text/html": [
       "<div>\n",
       "<style scoped>\n",
       "    .dataframe tbody tr th:only-of-type {\n",
       "        vertical-align: middle;\n",
       "    }\n",
       "\n",
       "    .dataframe tbody tr th {\n",
       "        vertical-align: top;\n",
       "    }\n",
       "\n",
       "    .dataframe thead th {\n",
       "        text-align: right;\n",
       "    }\n",
       "</style>\n",
       "<table border=\"1\" class=\"dataframe\">\n",
       "  <thead>\n",
       "    <tr style=\"text-align: right;\">\n",
       "      <th></th>\n",
       "      <th>Varaždin</th>\n",
       "      <th>Zagreb</th>\n",
       "    </tr>\n",
       "  </thead>\n",
       "  <tbody>\n",
       "    <tr>\n",
       "      <th>Price per Square Meter to Buy Apartment in City Centre</th>\n",
       "      <td>11777.45</td>\n",
       "      <td>3595.18</td>\n",
       "    </tr>\n",
       "    <tr>\n",
       "      <th>Price per Square Meter to Buy Apartment Outside of Centre</th>\n",
       "      <td>7024.46</td>\n",
       "      <td>2722.55</td>\n",
       "    </tr>\n",
       "  </tbody>\n",
       "</table>\n",
       "</div>"
      ],
      "text/plain": [
       "                                                    Varaždin   Zagreb\n",
       "Price per Square Meter to Buy Apartment in City...  11777.45  3595.18\n",
       "Price per Square Meter to Buy Apartment Outside...   7024.46  2722.55"
      ]
     },
     "execution_count": 23,
     "metadata": {},
     "output_type": "execute_result"
    }
   ],
   "source": [
    "rent1 = soup_vz.find(text=\"Buy Apartment Price\").findNext('td').contents[0]\n",
    "price1=rent1.findNext('td').find('span')\n",
    "rent1_z = soup_zg.find(text=\"Rent Per Month\").findNext('td').contents[0]\n",
    "price1_z=rent1_z.findNext('td').find('span')\n",
    "\n",
    "price_1=[float(price1.text.replace('kn', '').replace(',', ''))]\n",
    "rent_1=[rent1]\n",
    "price_2=[float(price1_z.text.replace('kn', '').replace(',', ''))]\n",
    "rent_2=[rent1_z]\n",
    "\n",
    "i=0\n",
    "p=price1\n",
    "p_z=price1_z\n",
    "while(i<1):\n",
    "    r=p.findNext('td').findNext('td').contents[0]\n",
    "    r_z=p_z.findNext('td').findNext('td').contents[0]\n",
    "    p=r.findNext('td').find('span')\n",
    "    p_z=r_z.findNext('td').find('span')\n",
    "    price_1.append(float(p.text.replace('kn', '').replace(',', '')))\n",
    "    rent_1.append(r)\n",
    "    price_2.append(float(p_z.text.replace('kn', '').replace(',', '')))\n",
    "    rent_2.append(r_z)\n",
    "    i=i+1\n",
    "    \n",
    "\n",
    "\n",
    "df3 = pd.DataFrame({'Varaždin': price_1, 'Zagreb': price_2}, index=rent_1)\n",
    "df3"
   ]
  },
  {
   "cell_type": "markdown",
   "id": "c027c33b",
   "metadata": {},
   "source": [
    "#### Utilities"
   ]
  },
  {
   "cell_type": "code",
   "execution_count": 24,
   "id": "59365eb9",
   "metadata": {},
   "outputs": [
    {
     "data": {
      "text/html": [
       "<div>\n",
       "<style scoped>\n",
       "    .dataframe tbody tr th:only-of-type {\n",
       "        vertical-align: middle;\n",
       "    }\n",
       "\n",
       "    .dataframe tbody tr th {\n",
       "        vertical-align: top;\n",
       "    }\n",
       "\n",
       "    .dataframe thead th {\n",
       "        text-align: right;\n",
       "    }\n",
       "</style>\n",
       "<table border=\"1\" class=\"dataframe\">\n",
       "  <thead>\n",
       "    <tr style=\"text-align: right;\">\n",
       "      <th></th>\n",
       "      <th>Varaždin</th>\n",
       "      <th>Zagreb</th>\n",
       "    </tr>\n",
       "  </thead>\n",
       "  <tbody>\n",
       "    <tr>\n",
       "      <th>Basic (Electricity, Heating, Cooling, Water, Garbage) for 85m2 Apartment</th>\n",
       "      <td>1324.09</td>\n",
       "      <td>3595.18</td>\n",
       "    </tr>\n",
       "    <tr>\n",
       "      <th>1 min. of Prepaid Mobile Tariff Local (No Discounts or Plans)</th>\n",
       "      <td>0.88</td>\n",
       "      <td>2722.55</td>\n",
       "    </tr>\n",
       "    <tr>\n",
       "      <th>Internet (60 Mbps or More, Unlimited Data, Cable/ADSL)</th>\n",
       "      <td>136.00</td>\n",
       "      <td>6086.62</td>\n",
       "    </tr>\n",
       "  </tbody>\n",
       "</table>\n",
       "</div>"
      ],
      "text/plain": [
       "                                                    Varaždin   Zagreb\n",
       "Basic (Electricity, Heating, Cooling, Water, Ga...   1324.09  3595.18\n",
       "1 min. of Prepaid Mobile Tariff Local (No Disco...      0.88  2722.55\n",
       "Internet (60 Mbps or More, Unlimited Data, Cabl...    136.00  6086.62"
      ]
     },
     "execution_count": 24,
     "metadata": {},
     "output_type": "execute_result"
    }
   ],
   "source": [
    "rent1 = soup_vz.find(text=\"Utilities (Monthly)\").findNext('td').contents[0]\n",
    "price1=rent1.findNext('td').find('span')\n",
    "rent1_z = soup_zg.find(text=\"Rent Per Month\").findNext('td').contents[0]\n",
    "price1_z=rent1_z.findNext('td').find('span')\n",
    "\n",
    "price_1=[float(price1.text.replace('kn', '').replace(',', ''))]\n",
    "rent_1=[rent1]\n",
    "price_2=[float(price1_z.text.replace('kn', '').replace(',', ''))]\n",
    "rent_2=[rent1_z]\n",
    "\n",
    "i=0\n",
    "p=price1\n",
    "p_z=price1_z\n",
    "while(i<2):\n",
    "    r=p.findNext('td').findNext('td').contents[0]\n",
    "    r_z=p_z.findNext('td').findNext('td').contents[0]\n",
    "    p=r.findNext('td').find('span')\n",
    "    p_z=r_z.findNext('td').find('span')\n",
    "    price_1.append(float(p.text.replace('kn', '').replace(',', '')))\n",
    "    rent_1.append(r)\n",
    "    price_2.append(float(p_z.text.replace('kn', '').replace(',', '')))\n",
    "    rent_2.append(r_z)\n",
    "    i=i+1\n",
    "    \n",
    "\n",
    "\n",
    "df4 = pd.DataFrame({'Varaždin': price_1, 'Zagreb': price_2}, index=rent_1)\n",
    "df4"
   ]
  },
  {
   "cell_type": "markdown",
   "id": "deef6e08",
   "metadata": {},
   "source": [
    "#### Salary"
   ]
  },
  {
   "cell_type": "code",
   "execution_count": 25,
   "id": "fc15a745",
   "metadata": {},
   "outputs": [
    {
     "data": {
      "text/html": [
       "<div>\n",
       "<style scoped>\n",
       "    .dataframe tbody tr th:only-of-type {\n",
       "        vertical-align: middle;\n",
       "    }\n",
       "\n",
       "    .dataframe tbody tr th {\n",
       "        vertical-align: top;\n",
       "    }\n",
       "\n",
       "    .dataframe thead th {\n",
       "        text-align: right;\n",
       "    }\n",
       "</style>\n",
       "<table border=\"1\" class=\"dataframe\">\n",
       "  <thead>\n",
       "    <tr style=\"text-align: right;\">\n",
       "      <th></th>\n",
       "      <th>Varaždin</th>\n",
       "      <th>Zagreb</th>\n",
       "    </tr>\n",
       "  </thead>\n",
       "  <tbody>\n",
       "    <tr>\n",
       "      <th>Average Monthly Net Salary (After Tax)</th>\n",
       "      <td>3816.67</td>\n",
       "      <td>7114.45</td>\n",
       "    </tr>\n",
       "  </tbody>\n",
       "</table>\n",
       "</div>"
      ],
      "text/plain": [
       "                                         Varaždin   Zagreb\n",
       "Average Monthly Net Salary (After Tax)    3816.67  7114.45"
      ]
     },
     "execution_count": 25,
     "metadata": {},
     "output_type": "execute_result"
    }
   ],
   "source": [
    "salary = soup_vz.find(text=\"Salaries And Financing\").findNext('td').contents[0]\n",
    "value=salary.findNext('td').find('span').text.replace('kn', '').replace(',', '')\n",
    "\n",
    "salary2 = soup_zg.find(text=\"Salaries And Financing\").findNext('td').contents[0]\n",
    "value2=salary2.findNext('td').find('span').text.replace('kn', '').replace(',', '')\n",
    "\n",
    "df5 = pd.DataFrame({'Varaždin': [float(value)], 'Zagreb': [float(value2)]}, index=[salary])\n",
    "df5"
   ]
  },
  {
   "cell_type": "markdown",
   "id": "93a9459e",
   "metadata": {},
   "source": [
    "#### Quality of life index"
   ]
  },
  {
   "cell_type": "code",
   "execution_count": 26,
   "id": "ff77f187",
   "metadata": {},
   "outputs": [],
   "source": [
    "url = \"https://www.numbeo.com/quality-of-life/in/Varazdin\"\n",
    "req = requests.get(url)\n",
    "soup_vz = BeautifulSoup(req.content, 'html.parser')\n",
    "table= soup_vz.find('table', class_=\"table_indices\")\n",
    "qol = table.findAll('td')\n",
    "qol_vz=float(qol[1].text.replace('\\n', ''))\n",
    "\n",
    "url = \"https://www.numbeo.com/quality-of-life/in/Zagreb\"\n",
    "req = requests.get(url)\n",
    "soup_zg = BeautifulSoup(req.content, 'html.parser')\n",
    "table= soup_zg.find('table', class_=\"table_indices\")\n",
    "qol = table.findAll('td')\n",
    "qol_zg=float(qol[1].text.replace('\\n', ''))"
   ]
  },
  {
   "cell_type": "code",
   "execution_count": 27,
   "id": "88765803",
   "metadata": {},
   "outputs": [
    {
     "data": {
      "text/html": [
       "<div>\n",
       "<style scoped>\n",
       "    .dataframe tbody tr th:only-of-type {\n",
       "        vertical-align: middle;\n",
       "    }\n",
       "\n",
       "    .dataframe tbody tr th {\n",
       "        vertical-align: top;\n",
       "    }\n",
       "\n",
       "    .dataframe thead th {\n",
       "        text-align: right;\n",
       "    }\n",
       "</style>\n",
       "<table border=\"1\" class=\"dataframe\">\n",
       "  <thead>\n",
       "    <tr style=\"text-align: right;\">\n",
       "      <th></th>\n",
       "      <th>Varaždin</th>\n",
       "      <th>Zagreb</th>\n",
       "    </tr>\n",
       "  </thead>\n",
       "  <tbody>\n",
       "    <tr>\n",
       "      <th>Quality Of Life Index</th>\n",
       "      <td>155.67</td>\n",
       "      <td>158.31</td>\n",
       "    </tr>\n",
       "  </tbody>\n",
       "</table>\n",
       "</div>"
      ],
      "text/plain": [
       "                       Varaždin  Zagreb\n",
       "Quality Of Life Index    155.67  158.31"
      ]
     },
     "execution_count": 27,
     "metadata": {},
     "output_type": "execute_result"
    }
   ],
   "source": [
    "df6 = pd.DataFrame({'Varaždin': [qol_vz], 'Zagreb': [qol_zg]}, index=['Quality Of Life Index'])\n",
    "df6"
   ]
  },
  {
   "cell_type": "markdown",
   "id": "1419f28a",
   "metadata": {},
   "source": [
    "#### Crime Index"
   ]
  },
  {
   "cell_type": "code",
   "execution_count": 28,
   "id": "6dd91bf0",
   "metadata": {},
   "outputs": [],
   "source": [
    "url = \"https://www.numbeo.com/crime/in/Varazdin\"\n",
    "req = requests.get(url)\n",
    "soup_vz = BeautifulSoup(req.content, 'html.parser')\n",
    "table= soup_vz.find('table', class_=\"table_indices\")\n",
    "crime = table.findAll('td')\n",
    "crime_vz=float(crime[1].text.replace('\\n', ''))\n",
    "\n",
    "url = \"https://www.numbeo.com/crime/in/Zagreb\"\n",
    "req = requests.get(url)\n",
    "soup_zg = BeautifulSoup(req.content, 'html.parser')\n",
    "table= soup_zg.find('table', class_=\"table_indices\")\n",
    "crime = table.findAll('td')\n",
    "crime_zg=float(crime[1].text.replace('\\n', ''))"
   ]
  },
  {
   "cell_type": "code",
   "execution_count": 29,
   "id": "e93a335d",
   "metadata": {},
   "outputs": [
    {
     "data": {
      "text/html": [
       "<div>\n",
       "<style scoped>\n",
       "    .dataframe tbody tr th:only-of-type {\n",
       "        vertical-align: middle;\n",
       "    }\n",
       "\n",
       "    .dataframe tbody tr th {\n",
       "        vertical-align: top;\n",
       "    }\n",
       "\n",
       "    .dataframe thead th {\n",
       "        text-align: right;\n",
       "    }\n",
       "</style>\n",
       "<table border=\"1\" class=\"dataframe\">\n",
       "  <thead>\n",
       "    <tr style=\"text-align: right;\">\n",
       "      <th></th>\n",
       "      <th>Varaždin</th>\n",
       "      <th>Zagreb</th>\n",
       "    </tr>\n",
       "  </thead>\n",
       "  <tbody>\n",
       "    <tr>\n",
       "      <th>Crime Index</th>\n",
       "      <td>20.93</td>\n",
       "      <td>22.19</td>\n",
       "    </tr>\n",
       "  </tbody>\n",
       "</table>\n",
       "</div>"
      ],
      "text/plain": [
       "             Varaždin  Zagreb\n",
       "Crime Index     20.93   22.19"
      ]
     },
     "execution_count": 29,
     "metadata": {},
     "output_type": "execute_result"
    }
   ],
   "source": [
    "df7 = pd.DataFrame({'Varaždin': [crime_vz], 'Zagreb': [crime_zg]}, index=['Crime Index'])\n",
    "df7"
   ]
  },
  {
   "cell_type": "markdown",
   "id": "c3013ba0",
   "metadata": {},
   "source": [
    "## Results"
   ]
  },
  {
   "cell_type": "markdown",
   "id": "4990e1ca",
   "metadata": {},
   "source": [
    "#### Venues\n",
    "Results for numbers of interesting venues to visit in Varaždin and Zagreb is presented below in a dataframe and bar chart:"
   ]
  },
  {
   "cell_type": "code",
   "execution_count": 30,
   "id": "c6a3e639",
   "metadata": {},
   "outputs": [
    {
     "data": {
      "text/html": [
       "<div>\n",
       "<style scoped>\n",
       "    .dataframe tbody tr th:only-of-type {\n",
       "        vertical-align: middle;\n",
       "    }\n",
       "\n",
       "    .dataframe tbody tr th {\n",
       "        vertical-align: top;\n",
       "    }\n",
       "\n",
       "    .dataframe thead th {\n",
       "        text-align: right;\n",
       "    }\n",
       "</style>\n",
       "<table border=\"1\" class=\"dataframe\">\n",
       "  <thead>\n",
       "    <tr style=\"text-align: right;\">\n",
       "      <th></th>\n",
       "      <th>Varaždin</th>\n",
       "      <th>Zagreb</th>\n",
       "    </tr>\n",
       "  </thead>\n",
       "  <tbody>\n",
       "    <tr>\n",
       "      <th>coffee place</th>\n",
       "      <td>8</td>\n",
       "      <td>14</td>\n",
       "    </tr>\n",
       "    <tr>\n",
       "      <th>pub</th>\n",
       "      <td>2</td>\n",
       "      <td>3</td>\n",
       "    </tr>\n",
       "    <tr>\n",
       "      <th>bar</th>\n",
       "      <td>19</td>\n",
       "      <td>10</td>\n",
       "    </tr>\n",
       "    <tr>\n",
       "      <th>club</th>\n",
       "      <td>0</td>\n",
       "      <td>1</td>\n",
       "    </tr>\n",
       "    <tr>\n",
       "      <th>restaurant</th>\n",
       "      <td>16</td>\n",
       "      <td>18</td>\n",
       "    </tr>\n",
       "    <tr>\n",
       "      <th>theaters</th>\n",
       "      <td>2</td>\n",
       "      <td>6</td>\n",
       "    </tr>\n",
       "    <tr>\n",
       "      <th>shopping</th>\n",
       "      <td>5</td>\n",
       "      <td>10</td>\n",
       "    </tr>\n",
       "  </tbody>\n",
       "</table>\n",
       "</div>"
      ],
      "text/plain": [
       "              Varaždin  Zagreb\n",
       "coffee place         8      14\n",
       "pub                  2       3\n",
       "bar                 19      10\n",
       "club                 0       1\n",
       "restaurant          16      18\n",
       "theaters             2       6\n",
       "shopping             5      10"
      ]
     },
     "execution_count": 30,
     "metadata": {},
     "output_type": "execute_result"
    }
   ],
   "source": [
    "df"
   ]
  },
  {
   "cell_type": "code",
   "execution_count": 31,
   "id": "e77a9f9a",
   "metadata": {},
   "outputs": [
    {
     "data": {
      "image/png": "[encoded data removed]",
      "text/plain": [
       "<Figure size 432x288 with 1 Axes>"
      ]
     },
     "metadata": {
      "needs_background": "light"
     },
     "output_type": "display_data"
    }
   ],
   "source": [
    "vz = df['Varaždin']\n",
    "zg = df['Zagreb']\n",
    "index = ['coffee place', 'pub', 'bar', 'club', 'restaurant', 'theaters', 'shopping']\n",
    "df = pd.DataFrame({'Varaždin': vz,\n",
    "                   'Zagreb': zg}, index=index)\n",
    "ax = df.plot.bar(rot=0)"
   ]
  },
  {
   "cell_type": "markdown",
   "id": "74a586a2",
   "metadata": {},
   "source": [
    "#### Living\n",
    "The numerical data regarding costs and quality of living in Varaždin and Zagreb is presented below in a dataframe and bar charts regarding the category:"
   ]
  },
  {
   "cell_type": "code",
   "execution_count": 32,
   "id": "19b8a000",
   "metadata": {},
   "outputs": [
    {
     "data": {
      "text/html": [
       "<div>\n",
       "<style scoped>\n",
       "    .dataframe tbody tr th:only-of-type {\n",
       "        vertical-align: middle;\n",
       "    }\n",
       "\n",
       "    .dataframe tbody tr th {\n",
       "        vertical-align: top;\n",
       "    }\n",
       "\n",
       "    .dataframe thead th {\n",
       "        text-align: right;\n",
       "    }\n",
       "</style>\n",
       "<table border=\"1\" class=\"dataframe\">\n",
       "  <thead>\n",
       "    <tr style=\"text-align: right;\">\n",
       "      <th></th>\n",
       "      <th>Varaždin</th>\n",
       "      <th>Zagreb</th>\n",
       "    </tr>\n",
       "  </thead>\n",
       "  <tbody>\n",
       "    <tr>\n",
       "      <th>Preschool (or Kindergarten), Full Day, Private, Monthly for 1 Child</th>\n",
       "      <td>800.00</td>\n",
       "      <td>1313.45</td>\n",
       "    </tr>\n",
       "    <tr>\n",
       "      <th>Apartment (1 bedroom) in City Centre</th>\n",
       "      <td>1918.00</td>\n",
       "      <td>3595.18</td>\n",
       "    </tr>\n",
       "    <tr>\n",
       "      <th>Apartment (1 bedroom) Outside of Centre</th>\n",
       "      <td>1673.51</td>\n",
       "      <td>2722.55</td>\n",
       "    </tr>\n",
       "    <tr>\n",
       "      <th>Apartment (3 bedrooms) in City Centre</th>\n",
       "      <td>3761.01</td>\n",
       "      <td>6086.62</td>\n",
       "    </tr>\n",
       "    <tr>\n",
       "      <th>Apartment (3 bedrooms) Outside of Centre</th>\n",
       "      <td>3041.34</td>\n",
       "      <td>4639.60</td>\n",
       "    </tr>\n",
       "    <tr>\n",
       "      <th>Price per Square Meter to Buy Apartment in City Centre</th>\n",
       "      <td>11777.45</td>\n",
       "      <td>3595.18</td>\n",
       "    </tr>\n",
       "    <tr>\n",
       "      <th>Price per Square Meter to Buy Apartment Outside of Centre</th>\n",
       "      <td>7024.46</td>\n",
       "      <td>2722.55</td>\n",
       "    </tr>\n",
       "    <tr>\n",
       "      <th>Basic (Electricity, Heating, Cooling, Water, Garbage) for 85m2 Apartment</th>\n",
       "      <td>1324.09</td>\n",
       "      <td>3595.18</td>\n",
       "    </tr>\n",
       "    <tr>\n",
       "      <th>1 min. of Prepaid Mobile Tariff Local (No Discounts or Plans)</th>\n",
       "      <td>0.88</td>\n",
       "      <td>2722.55</td>\n",
       "    </tr>\n",
       "    <tr>\n",
       "      <th>Internet (60 Mbps or More, Unlimited Data, Cable/ADSL)</th>\n",
       "      <td>136.00</td>\n",
       "      <td>6086.62</td>\n",
       "    </tr>\n",
       "    <tr>\n",
       "      <th>Average Monthly Net Salary (After Tax)</th>\n",
       "      <td>3816.67</td>\n",
       "      <td>7114.45</td>\n",
       "    </tr>\n",
       "    <tr>\n",
       "      <th>Quality Of Life Index</th>\n",
       "      <td>155.67</td>\n",
       "      <td>158.31</td>\n",
       "    </tr>\n",
       "    <tr>\n",
       "      <th>Crime Index</th>\n",
       "      <td>20.93</td>\n",
       "      <td>22.19</td>\n",
       "    </tr>\n",
       "  </tbody>\n",
       "</table>\n",
       "</div>"
      ],
      "text/plain": [
       "                                                    Varaždin   Zagreb\n",
       "Preschool (or Kindergarten), Full Day, Private,...    800.00  1313.45\n",
       "Apartment (1 bedroom) in City Centre                 1918.00  3595.18\n",
       "Apartment (1 bedroom) Outside of Centre              1673.51  2722.55\n",
       "Apartment (3 bedrooms) in City Centre                3761.01  6086.62\n",
       "Apartment (3 bedrooms) Outside of Centre             3041.34  4639.60\n",
       "Price per Square Meter to Buy Apartment in City...  11777.45  3595.18\n",
       "Price per Square Meter to Buy Apartment Outside...   7024.46  2722.55\n",
       "Basic (Electricity, Heating, Cooling, Water, Ga...   1324.09  3595.18\n",
       "1 min. of Prepaid Mobile Tariff Local (No Disco...      0.88  2722.55\n",
       "Internet (60 Mbps or More, Unlimited Data, Cabl...    136.00  6086.62\n",
       "Average Monthly Net Salary (After Tax)               3816.67  7114.45\n",
       "Quality Of Life Index                                 155.67   158.31\n",
       "Crime Index                                            20.93    22.19"
      ]
     },
     "execution_count": 32,
     "metadata": {},
     "output_type": "execute_result"
    }
   ],
   "source": [
    "frames = [df1, df2, df3, df4, df5, df6, df7]\n",
    "result = pd.concat(frames)\n",
    "result"
   ]
  },
  {
   "cell_type": "code",
   "execution_count": 33,
   "id": "49205d2a",
   "metadata": {},
   "outputs": [
    {
     "data": {
      "image/png": "[encoded data removed]",
      "text/plain": [
       "<Figure size 432x288 with 1 Axes>"
      ]
     },
     "metadata": {
      "needs_background": "light"
     },
     "output_type": "display_data"
    },
    {
     "data": {
      "image/png": "[encoded data removed]",
      "text/plain": [
       "<Figure size 432x288 with 1 Axes>"
      ]
     },
     "metadata": {
      "needs_background": "light"
     },
     "output_type": "display_data"
    },
    {
     "data": {
      "image/png": "[encoded data removed]",
      "text/plain": [
       "<Figure size 432x288 with 1 Axes>"
      ]
     },
     "metadata": {
      "needs_background": "light"
     },
     "output_type": "display_data"
    },
    {
     "data": {
      "image/png": "[encoded data removed]",
      "text/plain": [
       "<Figure size 432x288 with 1 Axes>"
      ]
     },
     "metadata": {
      "needs_background": "light"
     },
     "output_type": "display_data"
    },
    {
     "data": {
      "image/png": "[encoded data removed]",
      "text/plain": [
       "<Figure size 432x288 with 1 Axes>"
      ]
     },
     "metadata": {
      "needs_background": "light"
     },
     "output_type": "display_data"
    },
    {
     "data": {
      "image/png": "[encoded data removed]",
      "text/plain": [
       "<Figure size 432x288 with 1 Axes>"
      ]
     },
     "metadata": {
      "needs_background": "light"
     },
     "output_type": "display_data"
    },
    {
     "data": {
      "image/png": "[encoded data removed]",
      "text/plain": [
       "<Figure size 432x288 with 1 Axes>"
      ]
     },
     "metadata": {
      "needs_background": "light"
     },
     "output_type": "display_data"
    }
   ],
   "source": [
    "ax = df1.plot.bar(rot=0)\n",
    "ax = df2.plot.bar(rot=6)\n",
    "ax = df3.plot.bar(rot=4)\n",
    "ax = df4.plot.bar(rot=8)\n",
    "ax = df5.plot.bar(rot=0)\n",
    "ax = df6.plot.bar(rot=0)\n",
    "ax = df7.plot.bar(rot=0)"
   ]
  },
  {
   "cell_type": "markdown",
   "id": "b0b7a4ea",
   "metadata": {},
   "source": [
    "## Discussion\n",
    "\n",
    "We can see that in general Zagreb has more places to go out for your people. We can also see that it is more expensive then Varaždin in most cases, but on the other hand people do have a higher monthly salary in Zagreb then in Varaždin. Regarding all this, numbeo has the data that for a family of four Varaždin is more expensive. Quality of life index and crime rates are similar, both are slightly higher in Zagreb."
   ]
  },
  {
   "cell_type": "markdown",
   "id": "99592773",
   "metadata": {},
   "source": [
    "## Conclusion"
   ]
  },
  {
   "cell_type": "markdown",
   "id": "69ec47b2",
   "metadata": {},
   "source": [
    "My conclusion is that we need more data from numbeo for Varaždin to make some assumptions regarding the prices of living. We can agree though that Zagreb would be a more interesting place to live for a younger person, but for a family that maybe wants a quiet place that is not so expensive, we can't make much conclusion with this data."
   ]
  },
  {
   "cell_type": "code",
   "execution_count": null,
   "id": "a7060f2e",
   "metadata": {},
   "outputs": [],
   "source": []
  }
 ],
 "metadata": {
  "kernelspec": {
   "display_name": "Python 3",
   "language": "python",
   "name": "python3"
  },
  "language_info": {
   "codemirror_mode": {
    "name": "ipython",
    "version": 3
   },
   "file_extension": ".py",
   "mimetype": "text/x-python",
   "name": "python",
   "nbconvert_exporter": "python",
   "pygments_lexer": "ipython3",
   "version": "3.8.5"
  }
 },
 "nbformat": 4,
 "nbformat_minor": 5
}
